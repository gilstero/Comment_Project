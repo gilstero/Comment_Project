{
 "cells": [
  {
   "cell_type": "code",
   "execution_count": 1,
   "metadata": {
    "collapsed": false
   },
   "outputs": [
   ],
   "source": [
    "#Turns the grade you receive into a letter grade\n",
    "def grade_to_letter(grade:str): # takes in the grade in str form\n",
    "    grade = int(grade) # turns grade into an int from str\n",
    "    if grade < 60: # depending on what the grade is it will return the letter grade\n",
    "        return f\"F\"\n",
    "    elif grade <67:\n",
    "        return f\"D\"\n",
    "    elif grade <70:\n",
    "        return f\"D+\"\n",
    "    elif grade <73:\n",
    "        return f\"C-\"\n",
    "    elif grade <77:\n",
    "        return f\"C\"\n",
    "    elif grade <80:\n",
    "        return f\"C+\"\n",
    "    elif grade <83:\n",
    "        return f\"B-\"\n",
    "    elif grade <87:\n",
    "        return f\"B\"\n",
    "    elif grade <90:\n",
    "        return f\"B+\"\n",
    "    elif grade <93:\n",
    "        return f\"A-\"\n",
    "    else:\n",
    "        return f\"A\"\n",
    "# grades chosen were dependent on common grade scale\n"
   ]
  },
  {
   "cell_type": "code",
   "execution_count": 2,
   "metadata": {
    "collapsed": false
   },
   "outputs": [
   ],
   "source": [
    "#Generates first two intro paragraphs when triggered\n",
    "def intro(grade:str, class_name:str, name:str): # function takes in grade as a str, the name of the class as a string, and the student name\n",
    "    grade = int(grade) # converts the grade from a str to an int\n",
    "    if grade < 60: # dependent on grade returns a different comment\n",
    "        return f\"{name}, you performed less than ideal this semester in {class_name}. You struggled to meet all of the criteria in the class which resulted in your final grade of {grade_to_letter(grade)}.\"\n",
    "    elif grade < 75: # dependent on grade returns a different comment\n",
    "        return f\"{name}, you preformed O.K. in this semester of {class_name}. While you struggled to meet all of the criteria in the class, you still showed a moderate understanding of the subject matter in class resulting in a final grade of {grade_to_letter(grade)}.\"\n",
    "    elif grade < 85: # dependent on grade returns a different comment\n",
    "        return f\"{name}, you had an adaquate performace this semester in {class_name}. While you met most of the criteria, you rarely went above and beyond to result in a higher final grade. Therefore, this semester your final grade is a {grade_to_letter(grade)}.\"\n",
    "    elif grade <= 100: # dependent on grade returns a different comment\n",
    "        return f\"{name}, you performed amazing this semester in {class_name}. You met most, if not all the criteria in the class which resulted in your final grade of a {grade_to_letter(grade)}.\""
   ]
  },
  {
   "cell_type": "code",
   "execution_count": 3,
   "metadata": {
    "collapsed": false
   },
   "outputs": [
   ],
   "source": [
    "# Learning indicator block for team work\n",
    "# ONLY TRIGGERS IF EXISTS\n",
    "def learning_indicator_team(learning_num:str, name:str): # takes in a learning indicator in str form and the name of the student\n",
    "    if learning_num == \"1\": # dependent on number returns a different comment\n",
    "        return f\"You struggled to meet the learning indictor on team work. {name}, although you failed to stay on task during team work times, I hope to see your improvement in the future\"\n",
    "    elif learning_num == \"2\": # dependent on number returns a different comment\n",
    "        return f\"You approcahed the learning indictor on team work. {name}, although you were sometimes on task you struggled to show your ability to work efficiently with a team\"\n",
    "    elif learning_num == \"3\": # dependent on number returns a different comment\n",
    "        return f\"You did a great job when it came to the learning indicator on team work. {name}, overall I was very impressed with your team work this semester\"\n",
    "    elif learning_num == \"4\": # dependent on number returns a different comment\n",
    "        return f\"You did an expectional job on the learning indictor for team work. {name}, I hope you keep up with the good work in the future.\""
   ]
  },
  {
   "cell_type": "code",
   "execution_count": 4,
   "metadata": {
    "collapsed": false
   },
   "outputs": [
   ],
   "source": [
    "#Learning indicator block for partcipation\n",
    "def learning_indicator_partic(learning_num:str, name:str): # takes in a learning indicator in str form and the name of the student \n",
    "    if learning_num == '1': # dependent on number returns a different comment\n",
    "        return f\"You are not seen partcipating much in class. I must request that you, {name}, work harder on interacting more with those around you and interacting with the material in class.\"\n",
    "    elif learning_num == '2': # dependent on number returns a different comment\n",
    "        return f\"You are partcipating in class. However, I would prefer is your participation in class increased as it shows a deeper understanding on the subject, {name}.\"\n",
    "    elif learning_num == '3': # dependent on number returns a different comment\n",
    "        return f\"You are interacting with the material well! I believe you, {name}, can improve even more so. Keep up the good work.\"\n",
    "    elif learning_num == '4': # dependent on number returns a different comment\n",
    "        return f\"You are interacting with the material incredibly well! You, {name}, have exceeded my expectations.\""
   ]
  },
  {
   "cell_type": "code",
   "execution_count": 5,
   "metadata": {
    "collapsed": false
   },
   "outputs": [
    {
     "data": {
      "text/plain": [
       "'You earned test scores this semester of 93, 74, 73. You had a highest test score of 93 and an average test score of 80.0. Your highest test score shows you have an amazing understanding of what is being taught in class.  .'"
      ]
     },
     "execution_count": 5,
     "metadata": {
     },
     "output_type": "execute_result"
    }
   ],
   "source": [
    "# Test block\n",
    "def test_scores(test_scores:str, *comment:str): # takes in a test score as an str and can also take in a comment as well\n",
    "    test_scores = test_scores.split(\",\") # splits test scores on the comma seperator\n",
    "    test_scores1 = \", \".join(test_scores) # joins test scores to the proper format\n",
    "    test_scores = [int(x) for x in test_scores] # turns the test scores in the list into int\n",
    "    comment = comment[0] # comment was a tuple so selects the first part of the tuple\n",
    "    if comment != '': # if comment is not empty it will go into this if statement which adds the optional comment\n",
    "        if max(test_scores) > 90: # returns different comment depedent on grade\n",
    "            return f\"You earned test scores this semester of {test_scores1}. You had a highest test score of {max(test_scores)} and an average test score of {sum(test_scores)/len(test_scores)}. Your highest test score shows you have an amazing understanding of what is being taught in class. {comment}.\"\n",
    "        elif max(test_scores) <= 80: # returns different comment depedent on grade\n",
    "            return f\"You earned test scores this semester of {test_scores1}. You had a highest test score of {max(test_scores)} and an average test score of {sum(test_scores)/len(test_scores)}. Your highest test score shows you are on the way to understanding what is being taught in class. {comment}.\"\n",
    "        elif max(test_scores) <= 90: # returns different comment depedent on grade\n",
    "            return f\"You earned test scores this semester of {test_scores1}. You had a highest test score of {max(test_scores)} and an average test score of {sum(test_scores)/len(test_scores)}. Your highest test score shows you have an adaqute understanding of what is being taught in class. {comment}.\"\n",
    "    else:\n",
    "        if max(test_scores) > 90: # returns different comment depedent on grade\n",
    "            return f\"You earned test scores this semester of {test_scores1}. You had a highest test score of {max(test_scores)} and an average test score of {sum(test_scores)/len(test_scores)}. Your highest test score shows you have an amazing understanding of what is being taught in class.\"\n",
    "        elif max(test_scores) <= 80: # returns different comment depedent on grade\n",
    "            return f\"You earned test scores this semester of {test_scores1}. You had a highest test score of {max(test_scores)} and an average test score of {sum(test_scores)/len(test_scores)}. Your highest test score shows you are on the way to understanding what is being taught in class.\"\n",
    "        elif max(test_scores) <= 90: # returns different comment depedent on grade\n",
    "            return f\"You earned test scores this semester of {test_scores1}. You had a highest test score of {max(test_scores)} and an average test score of {sum(test_scores)/len(test_scores)}. Your highest test score shows you have an adaqute understanding of what is being taught in class.\"\n",
    "\n",
    "test_scores(\"93,74,73\", \" \")"
   ]
  },
  {
   "cell_type": "code",
   "execution_count": 6,
   "metadata": {
    "collapsed": false
   },
   "outputs": [
    {
     "data": {
      "text/plain": [
       "'You are approaching a better writing style but have a lot to work on. Also, Bravo, you work hard.'"
      ]
     },
     "execution_count": 6,
     "metadata": {
     },
     "output_type": "execute_result"
    }
   ],
   "source": [
    "#Grade and comment block for writing\n",
    "def learning_indicator_writing(grade:str, name:str, compliment:str, *comment:str): # takes in a grade as str, name of student as str, compliment as str, and can take in an optional comment\n",
    "    grade = int(grade) # turns grade into an int\n",
    "    if comment[0] != '': # if comment is not empty it will go into this if statement which adds the optional comment\n",
    "        comment = comment[0] # selects the first part of the comment\n",
    "        comment = [x.lower() if x != \"I\" else \"I\" for x in comment] # makes the comment lowercase\n",
    "        comment = \"\".join(comment)\n",
    "        if grade < 60: # returns different comment depedent on grade\n",
    "            return f\"You have a significant amount to improve with your writing. {name}, {comment}.\"\n",
    "        elif grade < 75: # returns different comment depedent on grade\n",
    "            return f\"You are approaching a better writing style but have a lot to work on. Also, {name}, {comment}.\"\n",
    "        elif grade < 85: # returns different comment depedent on grade\n",
    "            return f\"Your writing style is forming! Even though you did {compliment}, don't forget that {comment}.\"\n",
    "        elif grade <= 100: # returns different comment depedent on grade\n",
    "            return f\"Your writing is incredible! You did {compliment}. Also, {comment}.\"\n",
    "    else:\n",
    "        if grade < 60: # returns different comment depedent on grade\n",
    "            return f\"You have a significant amount to improve with your writing. {name}, you can try meeting me after class to discuss your previous papers as there seems to be a lack of content comprehension. \"\n",
    "        elif grade < 75: # returns different comment depedent on grade\n",
    "            return f\"You are approaching a better writing style. However, {name}, your lack of comprehension on the content is affecting your work. I believe that with a little more time, you can write with ease.\"\n",
    "        elif grade < 85: # returns different comment depedent on grade\n",
    "            return f\"Your writing style is forming! However, your lack of attention to slight grammar errors and other such issues are affecting your work. However, with more time, you can improve your writing even more.\"\n",
    "        elif grade <= 100: # returns different comment depedent on grade\n",
    "            return f\"Your writing is incredible! You have an extremely personal writing style which is engaging and enetertaing to read. With more time, you, {name}, can always improve your writing. However, keep up the good work!\"\n",
    "learning_indicator_writing(70, 'Bravo', 'good at it', 'You work hard')"
   ]
  },
  {
   "cell_type": "code",
   "execution_count": 7,
   "metadata": {
    "collapsed": false,
    "scrolled": true
   },
   "outputs": [
    {
     "name": "stdout",
     "output_type": "stream",
     "text": [
      "Student1, you performed amazing this semester in English. You met most, if not all the criteria in the class which resulted in your final grade of a A-. You did an expectional job on the learning indictor for team work. Student1, I hope you keep up with the good work in the future. You are interacting with the material incredibly well! You, Student1, have exceeded my expectations. You earned test scores this semester of 82, 93, 99, 90. You had a highest test score of 99 and an average test score of 91.0. Your highest test score shows you have an amazing understanding of what is being taught in class. You did a great job this semester. Your writing is incredible! You did amazing. Also, you did amazing this semester in writing, and I am very proud of your work.\n"
     ]
    }
   ],
   "source": [
    "#Final Code Block\n",
    "import csv # imports csv to use\n",
    "\n",
    "comment_list = [] # creates a list to use later\n",
    "student_names = []\n",
    "with open(\"Teacher_Data - Sheet1.csv\") as csvfile: # opens the csv file with the student data in it, also atumatically closes file\n",
    "    data = csv.reader(csvfile) # reads the file in as \"data\"\n",
    "    header = next(data) # goes to next line and saves header as \"header\"\n",
    "    for line in data: # iterates through each line in the csv file\n",
    "        comment = [] # creates a blank list to append to\n",
    "        comment.append(intro(line[2], line[1], line[0])) # appends into sentence to the comment\n",
    "        comment.append(learning_indicator_team(line[3], line[0])) # appends learning indicator to comment\n",
    "        comment.append(learning_indicator_partic(line[7], line[0])) # appends learning indicator to comment\n",
    "        if line[4] != \"\": # if teacher wants to add test scores appends the test scores to comment\n",
    "            comment.append(test_scores(line[4], line[5]))\n",
    "        if line[6] != \"\": # if teacher wants to talk about writing appends writing and comment about writing to comment\n",
    "            comment.append(learning_indicator_writing(line[6], line[0], line[-1], line[8]))\n",
    "        comment_list.append(comment) # appends full comment to list of comments\n",
    "        student_names.append(line[0]) # appends student names to the list\n",
    "    for counter, comment in enumerate(comment_list): # iterates through the comment_list list\n",
    "        comment = \" \".join(comment) # joins the list called \"comment\"\n",
    "        stu_file = open(f\"{student_names[counter]}.txt\",'w') # opens a file under the student name\n",
    "        stu_file.write(comment) # writes to the file using the write function\n",
    "        stu_file.close() # closes file\n",
    "        \n",
    "# test case\n",
    "with  open(\"Student1.txt\") as st:\n",
    "    for line in st:\n",
    "        print(line)\n"
   ]
  },
  {
   "cell_type": "code",
   "execution_count": 8,
   "metadata": {
    "collapsed": false
   },
   "outputs": [
    {
     "name": "stdout",
     "output_type": "stream",
     "text": [
      "['student_name', 'class', 'grade', 'team_work', 'test_scores', 'comment', 'writing', 'participation', 'comment_writing', 'compliments']\n"
     ]
    }
   ],
   "source": [
    "print(header)"
   ]
  }
 ],
 "metadata": {
  "kernelspec": {
   "display_name": "Python 3 (system-wide)",
   "language": "python",
   "metadata": {
    "cocalc": {
     "description": "Python 3 programming language",
     "priority": 100,
     "url": "https://www.python.org/"
    }
   },
   "name": "python3",
   "resource_dir": "/ext/jupyter/kernels/python3"
  },
  "language_info": {
   "codemirror_mode": {
    "name": "ipython",
    "version": 3
   },
   "file_extension": ".py",
   "mimetype": "text/x-python",
   "name": "python",
   "nbconvert_exporter": "python",
   "pygments_lexer": "ipython3",
   "version": "3.8.10"
  }
 },
 "nbformat": 4,
 "nbformat_minor": 4
}